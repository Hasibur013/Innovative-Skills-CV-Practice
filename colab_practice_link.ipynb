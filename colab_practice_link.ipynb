{
 "cells": [
  {
   "cell_type": "markdown",
   "metadata": {},
   "source": [
    "# Session-3\n",
    "\n",
    "https://colab.research.google.com/drive/1LaQgOBFZOE9ty64ShMSA5x5-HcHe8srv?usp=sharing"
   ]
  },
  {
   "cell_type": "markdown",
   "metadata": {},
   "source": [
    "# Assignment-1\n",
    "https://colab.research.google.com/drive/1a0dnkMQwA7XRCcozu_Gw7T0DXZmk797C?usp=sharing"
   ]
  },
  {
   "cell_type": "markdown",
   "metadata": {},
   "source": [
    "# Session-4\n",
    "https://colab.research.google.com/drive/1k8OjetnJdav9u7_RQc6H7v_MCnL2ziIO?usp=sharing"
   ]
  },
  {
   "cell_type": "markdown",
   "metadata": {},
   "source": [
    "# Assignment-2\n",
    "https://colab.research.google.com/drive/1WgiFQOu_HNXptdbBCNXvye0rSFwxfC79?usp=sharing"
   ]
  },
  {
   "cell_type": "markdown",
   "metadata": {},
   "source": [
    "# Session-5\n",
    "https://colab.research.google.com/drive/1xi4E04OcD-B1P4pPbBiGB0KZGYVJqI3l?usp=sharing"
   ]
  },
  {
   "cell_type": "markdown",
   "metadata": {},
   "source": [
    "# Assignment-3\n",
    "https://colab.research.google.com/drive/1fUnE-k6Aia3fj2bbH67kxuDnH79FKmbD?usp=sharing"
   ]
  },
  {
   "cell_type": "markdown",
   "metadata": {},
   "source": [
    "# Session-6\n",
    "https://colab.research.google.com/drive/18Ur4qbAItqCj3W70jg-1KBNqAqvmeKCn?usp=sharing"
   ]
  },
  {
   "cell_type": "markdown",
   "metadata": {},
   "source": [
    "# Session-7\n",
    "https://colab.research.google.com/drive/13Be7Di84kDoshc3ed6lul2PPOYnYOtUD?usp=sharing"
   ]
  }
 ],
 "metadata": {
  "language_info": {
   "name": "python"
  }
 },
 "nbformat": 4,
 "nbformat_minor": 2
}
